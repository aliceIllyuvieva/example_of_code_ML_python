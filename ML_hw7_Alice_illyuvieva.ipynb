{
  "nbformat": 4,
  "nbformat_minor": 0,
  "metadata": {
    "colab": {
      "name": "ML_hw7_Alice_illyuvieva.ipynb",
      "provenance": []
    },
    "kernelspec": {
      "name": "python3",
      "display_name": "Python 3"
    }
  },
  "cells": [
    {
      "cell_type": "code",
      "metadata": {
        "id": "37miEhomYEkx",
        "outputId": "942dfdbc-0a82-441d-bc7d-665a66304cc3",
        "colab": {
          "base_uri": "https://localhost:8080/",
          "height": 443
        }
      },
      "source": [
        "from IPython.core.interactiveshell import InteractiveShell   \n",
        "InteractiveShell.ast_node_interactivity = \"all\"\n",
        "\n",
        "import numpy as np\n",
        "import pandas as pd\n",
        "import matplotlib.pylab as plt\n",
        "import seaborn as sns\n",
        "import statsmodels.api as sm\n",
        "from sklearn.model_selection import train_test_split as tts\n",
        "from sklearn import datasets\n",
        "from sklearn.model_selection import KFold\n",
        "import random \n",
        "from sklearn.model_selection import cross_val_score\n",
        "from sklearn.linear_model import LinearRegression\n",
        "import itertools\n",
        "\n",
        "\n",
        "\n",
        "csv_url = 'http://web.stanford.edu/~oleg2/hse/Credit.csv'\n",
        "df = pd.read_csv(csv_url)\n",
        "\n",
        "\n",
        "df['new_gender'] = (df['Gender'] == 'Female').astype(int)\n",
        "df['new_student'] = (df['Student'] == 'Yes').astype(int)\n",
        "df['new_married'] = (df['Married'] == 'Yes').astype(int)\n",
        "\n",
        "ethnicity_to_int = {'Caucasian': 0, 'Asian' : 1, 'African American' : 2}\n",
        "for row in ['Ethnicity'] :\n",
        "  df = df.replace({str(row): ethnicity_to_int})\n",
        "\n",
        "\n",
        "X = df[['Income', 'Limit', 'Rating', 'Cards', 'Age', 'Education', 'Ethnicity', 'new_gender', 'new_student', 'new_married']]\n",
        "\n",
        "y = df['Balance']\n",
        "\n",
        "\n",
        "Bics, cps, rsquared = [], [], []\n",
        "\n",
        "for i in range (1,len(X.columns) + 1):\n",
        "    \n",
        "    result_dict = []\n",
        "    \n",
        "    for combo in itertools.combinations(X.columns, i):\n",
        "        \n",
        "        model = sm.OLS(y, sm.add_constant(X[list(combo)]))\n",
        "        model = model.fit()\n",
        "        predicted = model.predict(sm.add_constant(X[list(combo)]))\n",
        "        RSS = ((predicted - y) ** 2).sum()\n",
        "        result_dict.append({\"model\":model, 'RSS': RSS })\n",
        "        \n",
        "    df1 = pd.DataFrame(result_dict)\n",
        "\n",
        "    model_min_rss = df1.loc[df1['RSS'].argmin()]\n",
        "    best_model = model_min_rss[\"model\"]\n",
        "    best_RSS = model_min_rss[\"RSS\"]\n",
        "    \n",
        "    rsquared.append(best_model.rsquared_adj)\n",
        "    Bics.append(best_model.bic)\n",
        "    cps_val = (best_RSS + 2 * i * best_RSS / 400)/ 400\n",
        "    cps.append(cps_val )\n",
        "\n",
        "    \n",
        "fig, (ax1, ax2, ax3) = plt.subplots(1, 3, figsize = (18, 8))\n",
        "\n",
        "\n",
        "#cp\n",
        "\n",
        "ax1.axis([1, 11.5, 9000, 31000])\n",
        "\n",
        "ax1.plot(np.arange(1,len(rsquared) + 1), cps, color = 'lightcoral')\n",
        "ax1.plot(np.arange(1,len(rsquared) + 1),cps, 'bo', color = 'forestgreen')\n",
        "ax1.plot(cps.index(min(cps)) + 1,cps[cps.index(min(cps))], \"x\", ms = 20, color = 'forestgreen')\n",
        "\n",
        "ax1.set_xlabel('Number of Predictors')\n",
        "ax1.set_ylabel('Cp')\n",
        "\n",
        "\n",
        "#Bic\n",
        "\n",
        "ax2.axis([1, 11.5, 4800, 5200])\n",
        "\n",
        "ax2.plot(np.arange(1,len(rsquared) + 1), Bics, color = 'lightcoral')\n",
        "ax2.plot(np.arange(1,len(rsquared) + 1),Bics,'bo', color = 'forestgreen')\n",
        "ax2.plot(Bics.index(min(Bics)) + 1,Bics[Bics.index(min(Bics))], \"x\", ms = 20, color = 'forestgreen')\n",
        "\n",
        "ax2.set_xlabel('Number of Predictors')\n",
        "ax2.set_ylabel('BIC')\n",
        "\n",
        "\n",
        "#rsquared\n",
        "\n",
        "ax3.axis([1, 11.9, 0.85, 0.965])\n",
        "\n",
        "ax3.plot(np.arange(1,len(rsquared) + 1), rsquared, color = 'lightcoral')\n",
        "ax3.plot(np.arange(1,len(rsquared) + 1), rsquared,'bo', color = 'forestgreen')\n",
        "ax3.plot(rsquared.index(max(rsquared)), rsquared[rsquared.index(max(rsquared))], \"x\", ms = 20, color = 'forestgreen')\n",
        "\n",
        "ax3.set_xlabel('Number of Predictors')\n",
        "ax3.set_ylabel('Adjusted R^2')\n",
        "\n"
      ],
      "execution_count": 54,
      "outputs": [
        {
          "output_type": "execute_result",
          "data": {
            "text/plain": [
              "(1.0, 11.5, 9000.0, 31000.0)"
            ]
          },
          "metadata": {
            "tags": []
          },
          "execution_count": 54
        },
        {
          "output_type": "execute_result",
          "data": {
            "text/plain": [
              "[<matplotlib.lines.Line2D at 0x7f8a02c41400>]"
            ]
          },
          "metadata": {
            "tags": []
          },
          "execution_count": 54
        },
        {
          "output_type": "execute_result",
          "data": {
            "text/plain": [
              "[<matplotlib.lines.Line2D at 0x7f8a02d94f60>]"
            ]
          },
          "metadata": {
            "tags": []
          },
          "execution_count": 54
        },
        {
          "output_type": "execute_result",
          "data": {
            "text/plain": [
              "[<matplotlib.lines.Line2D at 0x7f8a02c417b8>]"
            ]
          },
          "metadata": {
            "tags": []
          },
          "execution_count": 54
        },
        {
          "output_type": "execute_result",
          "data": {
            "text/plain": [
              "Text(0.5, 0, 'Number of Predictors')"
            ]
          },
          "metadata": {
            "tags": []
          },
          "execution_count": 54
        },
        {
          "output_type": "execute_result",
          "data": {
            "text/plain": [
              "Text(0, 0.5, 'Cp')"
            ]
          },
          "metadata": {
            "tags": []
          },
          "execution_count": 54
        },
        {
          "output_type": "execute_result",
          "data": {
            "text/plain": [
              "(1.0, 11.5, 4800.0, 5200.0)"
            ]
          },
          "metadata": {
            "tags": []
          },
          "execution_count": 54
        },
        {
          "output_type": "execute_result",
          "data": {
            "text/plain": [
              "[<matplotlib.lines.Line2D at 0x7f8a02c41f98>]"
            ]
          },
          "metadata": {
            "tags": []
          },
          "execution_count": 54
        },
        {
          "output_type": "execute_result",
          "data": {
            "text/plain": [
              "[<matplotlib.lines.Line2D at 0x7f8a02c414e0>]"
            ]
          },
          "metadata": {
            "tags": []
          },
          "execution_count": 54
        },
        {
          "output_type": "execute_result",
          "data": {
            "text/plain": [
              "[<matplotlib.lines.Line2D at 0x7f8a02c41eb8>]"
            ]
          },
          "metadata": {
            "tags": []
          },
          "execution_count": 54
        },
        {
          "output_type": "execute_result",
          "data": {
            "text/plain": [
              "Text(0.5, 0, 'Number of Predictors')"
            ]
          },
          "metadata": {
            "tags": []
          },
          "execution_count": 54
        },
        {
          "output_type": "execute_result",
          "data": {
            "text/plain": [
              "Text(0, 0.5, 'BIC')"
            ]
          },
          "metadata": {
            "tags": []
          },
          "execution_count": 54
        },
        {
          "output_type": "execute_result",
          "data": {
            "text/plain": [
              "(1.0, 11.9, 0.85, 0.965)"
            ]
          },
          "metadata": {
            "tags": []
          },
          "execution_count": 54
        },
        {
          "output_type": "execute_result",
          "data": {
            "text/plain": [
              "[<matplotlib.lines.Line2D at 0x7f8a02c41c50>]"
            ]
          },
          "metadata": {
            "tags": []
          },
          "execution_count": 54
        },
        {
          "output_type": "execute_result",
          "data": {
            "text/plain": [
              "[<matplotlib.lines.Line2D at 0x7f8a03505320>]"
            ]
          },
          "metadata": {
            "tags": []
          },
          "execution_count": 54
        },
        {
          "output_type": "execute_result",
          "data": {
            "text/plain": [
              "[<matplotlib.lines.Line2D at 0x7f8a02ed1be0>]"
            ]
          },
          "metadata": {
            "tags": []
          },
          "execution_count": 54
        },
        {
          "output_type": "execute_result",
          "data": {
            "text/plain": [
              "Text(0.5, 0, 'Number of Predictors')"
            ]
          },
          "metadata": {
            "tags": []
          },
          "execution_count": 54
        },
        {
          "output_type": "execute_result",
          "data": {
            "text/plain": [
              "Text(0, 0.5, 'Adjusted R^2')"
            ]
          },
          "metadata": {
            "tags": []
          },
          "execution_count": 54
        },
        {
          "output_type": "display_data",
          "data": {
            "image/png": "[encoded data removed]",
            "text/plain": [
              "<Figure size 1296x576 with 3 Axes>"
            ]
          },
          "metadata": {
            "tags": [],
            "needs_background": "light"
          }
        }
      ]
    },
    {
      "cell_type": "code",
      "metadata": {
        "id": "O8PIX156ZOOC"
      },
      "source": [
        ""
      ],
      "execution_count": 37,
      "outputs": []
    }
  ]
}